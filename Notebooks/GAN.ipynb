{
 "cells": [
  {
   "cell_type": "markdown",
   "metadata": {},
   "source": [
    "# Redes Adversativas\n",
    "\n",
    "Una red adversativa está formado por dos redes que se entrenan simultáneamente intentando ganarse mutuamente. Por un lado tenemos el *generador*, una red como el decoder de un AE que se encarga de crear imágenes nuevas a partir de vectores extraídos del espacio latente. Por otro, está el *discriminador*, una red que debería ser capaz de diferenciar si la imagen o no del input está creada por el generador o si es una imagen real de la base de datos.\n",
    "\n",
    "El objetivo de una GAN es entrenar el *generador* de tal forma que el discriminador no sea capaz de diferenciar las imágenes porque las imágenes generadas son de muy buena calidad e imitan a la perfección las reales."
   ]
  },
  {
   "cell_type": "code",
   "execution_count": 1,
   "metadata": {},
   "outputs": [],
   "source": [
    "import tensorflow as tf\n",
    "import glob\n",
    "#import imageio\n",
    "import matplotlib.pyplot as plt\n",
    "import numpy as np\n",
    "import os\n",
    "import PIL\n",
    "from tensorflow.keras import layers\n",
    "import time\n",
    "\n",
    "from IPython import display"
   ]
  },
  {
   "cell_type": "code",
   "execution_count": 2,
   "metadata": {},
   "outputs": [],
   "source": [
    "(Xtrain, Ytrain), (Xtest, Ytest) = tf.keras.datasets.mnist.load_data()"
   ]
  },
  {
   "cell_type": "code",
   "execution_count": 4,
   "metadata": {},
   "outputs": [
    {
     "data": {
      "text/plain": [
       "((60000, 28, 28, 1), (10000, 28, 28, 1))"
      ]
     },
     "execution_count": 4,
     "metadata": {},
     "output_type": "execute_result"
    }
   ],
   "source": [
    "Xtrain = Xtrain/255\n",
    "Xtest = Xtest/255\n",
    "\n",
    "Xtrain = np.expand_dims(Xtrain, -1)\n",
    "Xtest = np.expand_dims(Xtest,-1)\n",
    "\n",
    "Xtrain.shape, Xtest.shape"
   ]
  },
  {
   "cell_type": "code",
   "execution_count": 5,
   "metadata": {},
   "outputs": [
    {
     "data": {
      "text/plain": [
       "(28, 28, 1)"
      ]
     },
     "execution_count": 5,
     "metadata": {},
     "output_type": "execute_result"
    }
   ],
   "source": [
    "Xtrain[0].shape"
   ]
  },
  {
   "cell_type": "code",
   "execution_count": 20,
   "metadata": {},
   "outputs": [],
   "source": [
    "discriminador = tf.keras.models.Sequential([\n",
    "    layers.Conv2D(32, (3,3), activation = \"relu\", padding = \"same\" ,input_shape = Xtrain[0].shape),\n",
    "    layers.MaxPool2D(2),\n",
    "    layers.Conv2D(64, (3,3), padding = \"same\", activation = \"relu\"),\n",
    "    layers.MaxPool2D(2),\n",
    "    layers.Flatten(),\n",
    "    layers.Dense(1, activation  = \"sigmoid\")\n",
    "])"
   ]
  },
  {
   "cell_type": "code",
   "execution_count": 21,
   "metadata": {},
   "outputs": [],
   "source": [
    "generador = tf.keras.models.Sequential([\n",
    "    layers.Dense(7*7*1, activation = \"relu\", input_shape = (100,)),\n",
    "    layers.Reshape((7,7,1)),\n",
    "    layers.Conv2DTranspose(64, (3,3), strides = 2, padding = \"same\", activation = \"relu\"),\n",
    "    layers.Conv2DTranspose(128, (3,3), strides = 2, padding = \"same\", activation = \"relu\"),\n",
    "    layers.Conv2D(1, (3,3), strides = 1, padding = \"same\", activation = \"relu\")\n",
    "])"
   ]
  },
  {
   "cell_type": "code",
   "execution_count": 18,
   "metadata": {},
   "outputs": [],
   "source": [
    "class GAN(tf.keras.Model):\n",
    "    def __init__(self, discriminador, generador):\n",
    "        super(GAN, self).__init__()\n",
    "        self.discriminador = discriminador\n",
    "        self.generador = generador\n",
    "    \n",
    "    def train_step(self, X):\n",
    "\n",
    "        ## Generar valores aleatorios\n",
    "\n",
    "        ruido = tf.random.normal((X.shape[0], 100))\n",
    "\n",
    "        ## Generar imágen sintética\n",
    "\n",
    "        generadas = self.generador(ruido)\n",
    "\n",
    "        ## Pasar las imágenes y entrenar el discriminador\n",
    "        # Pasar las imágenes reales\n",
    "        etiquetas_bien = tf.ones((X.shape[0],1))\n",
    "\n",
    "        with tf.GradientTape() as tape:\n",
    "            pred_bien = self.discriminador(X)\n",
    "            error = tf.keras.metrics.binary_crossentropy(etiquetas_bien, pred_bien)\n",
    "\n",
    "        gradients = tape.gradient(error, self.discriminador.trainable_variables)\n",
    "        self.optimizer.apply_gradients(zip(gradients, self.discriminador.trainable_variables))\n",
    "\n",
    "\n",
    "        # Pasar las imágenes reales\n",
    "        etiquetas_mal = tf.zeros((X.shape[0],1))\n",
    "\n",
    "        with tf.GradientTape() as tape:\n",
    "            pred_mal = self.discriminador(generadas)\n",
    "            error = tf.keras.metrics.binary_crossentropy(etiquetas_mal, pred_mal)\n",
    "        \n",
    "        gradients = tape.gradient(error, self.discriminador.trainable_variables)\n",
    "        self.optimizer.apply_gradients(zip(gradients, self.discriminador.trainable_variables))\n",
    "\n",
    "        ## Entrenar el generador\n",
    "        # Generar valores aleatorios\n",
    "        ruido = tf.random.normal((X.shape[0], 100))\n",
    "\n",
    "        # Entrenamiento\n",
    "        etiquetas_bien = tf.ones((X.shape[0],1))\n",
    "        with tf.GradientTape() as tape:\n",
    "            # Generar imágen sintética\n",
    "            generadas = self.generador(ruido)\n",
    "            # Propagación\n",
    "            pred_bien = self.discriminador(generadas)\n",
    "            error = tf.keras.metrics.binary_crossentropy(etiquetas_bien, pred_bien)\n",
    "\n",
    "        gradients = tape.gradient(error, self.generador.trainable_variables)\n",
    "        self.optimizer.apply_gradients(zip(gradients, self.generador.trainable_variables))\n",
    "\n",
    "        return {\"Error Generador\":error}"
   ]
  },
  {
   "cell_type": "code",
   "execution_count": null,
   "metadata": {},
   "outputs": [],
   "source": [
    "gan = GAN(discriminador=discriminador, generador=generador)\n",
    "gan.compile(optimizer=\"adam\")\n",
    "history = gan.fit(Xtrain, epochs=10)"
   ]
  },
  {
   "cell_type": "code",
   "execution_count": 30,
   "metadata": {},
   "outputs": [
    {
     "data": {
      "image/png": "[encoded data removed]",
      "text/plain": [
       "<Figure size 432x288 with 1 Axes>"
      ]
     },
     "metadata": {
      "needs_background": "light"
     },
     "output_type": "display_data"
    }
   ],
   "source": [
    "## Generar valores aleatorios\n",
    "\n",
    "ruido = tf.random.normal((1, 100))\n",
    "\n",
    "## Generar imágen sintética\n",
    "\n",
    "generadas = generador(ruido)\n",
    "\n",
    "plt.figure()\n",
    "plt.imshow(generadas.numpy().squeeze())\n",
    "plt.show()"
   ]
  }
 ],
 "metadata": {
  "interpreter": {
   "hash": "14da12217b54ec38379a4e02c66fdb8ccdaa290bb035f38f9e1c4a82968c3e50"
  },
  "kernelspec": {
   "display_name": "Python 3.9.5 64-bit ('TFG2': conda)",
   "name": "python3"
  },
  "language_info": {
   "codemirror_mode": {
    "name": "ipython",
    "version": 3
   },
   "file_extension": ".py",
   "mimetype": "text/x-python",
   "name": "python",
   "nbconvert_exporter": "python",
   "pygments_lexer": "ipython3",
   "version": "3.9.5"
  },
  "orig_nbformat": 4
 },
 "nbformat": 4,
 "nbformat_minor": 2
}
